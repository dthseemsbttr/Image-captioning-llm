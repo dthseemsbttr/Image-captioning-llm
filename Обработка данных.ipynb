{
 "cells": [
  {
   "cell_type": "code",
   "execution_count": 1,
   "metadata": {},
   "outputs": [],
   "source": [
    "from collections import defaultdict\n",
    "from torchvision import transforms\n",
    "from io import BytesIO\n",
    "from tqdm import tqdm\n",
    "from PIL import Image\n",
    "import pandas as pd\n",
    "import numpy as np\n",
    "import torchvision\n",
    "import requests\n",
    "import pickle\n",
    "import json\n",
    "import time\n",
    "import uuid\n",
    "import re"
   ]
  },
  {
   "cell_type": "markdown",
   "metadata": {},
   "source": [
    "## Скачка датасета GCC"
   ]
  },
  {
   "cell_type": "code",
   "execution_count": 11,
   "metadata": {},
   "outputs": [],
   "source": [
    "def link_to_image(link): #функция для вывода фото в виде тензора, по ссылке данного фото\n",
    "    try:\n",
    "        response = requests.get(link, timeout=2)  #если ответа нет слишком долго, то фото пропускается\n",
    "    except Exception:\n",
    "        return None\n",
    "    try:\n",
    "        if response.status_code == 200:\n",
    "            image = Image.open(BytesIO(response.content))\n",
    "            transform = transforms.ToTensor()\n",
    "            tensor_image = transform(image)\n",
    "            return tensor_image\n",
    "        else:\n",
    "            return None\n",
    "    except Exception:\n",
    "        return None    \n",
    "    \n",
    "def image_to_tensor(tensor, filename): #сохранение фото в формате jpg с помощью тензора по определенному пути\n",
    "    torchvision.utils.save_image(tensor, fp=filename)"
   ]
  },
  {
   "cell_type": "code",
   "execution_count": 8,
   "metadata": {
    "collapsed": true
   },
   "outputs": [
    {
     "name": "stderr",
     "output_type": "stream",
     "text": [
      "  1%|▉                                                                   | 46278/3318332 [9:41:00<684:40:02,  1.33it/s]\n"
     ]
    },
    {
     "ename": "UnicodeEncodeError",
     "evalue": "'charmap' codec can't encode character '\\xa3' in position 86: character maps to <undefined>",
     "output_type": "error",
     "traceback": [
      "\u001b[1;31m---------------------------------------------------------------------------\u001b[0m",
      "\u001b[1;31mUnicodeEncodeError\u001b[0m                        Traceback (most recent call last)",
      "\u001b[1;32m<ipython-input-8-9acc43ce40f5>\u001b[0m in \u001b[0;36m<module>\u001b[1;34m\u001b[0m\n\u001b[0;32m     21\u001b[0m     \u001b[1;32mexcept\u001b[0m\u001b[1;33m:\u001b[0m\u001b[1;33m\u001b[0m\u001b[1;33m\u001b[0m\u001b[0m\n\u001b[0;32m     22\u001b[0m         \u001b[1;32mcontinue\u001b[0m\u001b[1;33m\u001b[0m\u001b[1;33m\u001b[0m\u001b[0m\n\u001b[1;32m---> 23\u001b[1;33m \u001b[0mdata_w_texts\u001b[0m\u001b[1;33m.\u001b[0m\u001b[0mto_csv\u001b[0m\u001b[1;33m(\u001b[0m\u001b[1;34m'F:/Вера/Диплом/Датасеты/GCC_all_data.csv'\u001b[0m\u001b[1;33m,\u001b[0m \u001b[0mencoding\u001b[0m\u001b[1;33m=\u001b[0m\u001b[1;34m'cp1251'\u001b[0m\u001b[1;33m)\u001b[0m\u001b[1;33m\u001b[0m\u001b[1;33m\u001b[0m\u001b[0m\n\u001b[0m",
      "\u001b[1;32mC:\\anaconda\\lib\\site-packages\\pandas\\util\\_decorators.py\u001b[0m in \u001b[0;36mwrapper\u001b[1;34m(*args, **kwargs)\u001b[0m\n\u001b[0;32m    209\u001b[0m                 \u001b[1;32melse\u001b[0m\u001b[1;33m:\u001b[0m\u001b[1;33m\u001b[0m\u001b[1;33m\u001b[0m\u001b[0m\n\u001b[0;32m    210\u001b[0m                     \u001b[0mkwargs\u001b[0m\u001b[1;33m[\u001b[0m\u001b[0mnew_arg_name\u001b[0m\u001b[1;33m]\u001b[0m \u001b[1;33m=\u001b[0m \u001b[0mnew_arg_value\u001b[0m\u001b[1;33m\u001b[0m\u001b[1;33m\u001b[0m\u001b[0m\n\u001b[1;32m--> 211\u001b[1;33m             \u001b[1;32mreturn\u001b[0m \u001b[0mfunc\u001b[0m\u001b[1;33m(\u001b[0m\u001b[1;33m*\u001b[0m\u001b[0margs\u001b[0m\u001b[1;33m,\u001b[0m \u001b[1;33m**\u001b[0m\u001b[0mkwargs\u001b[0m\u001b[1;33m)\u001b[0m\u001b[1;33m\u001b[0m\u001b[1;33m\u001b[0m\u001b[0m\n\u001b[0m\u001b[0;32m    212\u001b[0m \u001b[1;33m\u001b[0m\u001b[0m\n\u001b[0;32m    213\u001b[0m         \u001b[1;32mreturn\u001b[0m \u001b[0mcast\u001b[0m\u001b[1;33m(\u001b[0m\u001b[0mF\u001b[0m\u001b[1;33m,\u001b[0m \u001b[0mwrapper\u001b[0m\u001b[1;33m)\u001b[0m\u001b[1;33m\u001b[0m\u001b[1;33m\u001b[0m\u001b[0m\n",
      "\u001b[1;32mC:\\anaconda\\lib\\site-packages\\pandas\\core\\generic.py\u001b[0m in \u001b[0;36mto_csv\u001b[1;34m(self, path_or_buf, sep, na_rep, float_format, columns, header, index, index_label, mode, encoding, compression, quoting, quotechar, lineterminator, chunksize, date_format, doublequote, escapechar, decimal, errors, storage_options)\u001b[0m\n\u001b[0;32m   3718\u001b[0m         )\n\u001b[0;32m   3719\u001b[0m \u001b[1;33m\u001b[0m\u001b[0m\n\u001b[1;32m-> 3720\u001b[1;33m         return DataFrameRenderer(formatter).to_csv(\n\u001b[0m\u001b[0;32m   3721\u001b[0m             \u001b[0mpath_or_buf\u001b[0m\u001b[1;33m,\u001b[0m\u001b[1;33m\u001b[0m\u001b[1;33m\u001b[0m\u001b[0m\n\u001b[0;32m   3722\u001b[0m             \u001b[0mlineterminator\u001b[0m\u001b[1;33m=\u001b[0m\u001b[0mlineterminator\u001b[0m\u001b[1;33m,\u001b[0m\u001b[1;33m\u001b[0m\u001b[1;33m\u001b[0m\u001b[0m\n",
      "\u001b[1;32mC:\\anaconda\\lib\\site-packages\\pandas\\util\\_decorators.py\u001b[0m in \u001b[0;36mwrapper\u001b[1;34m(*args, **kwargs)\u001b[0m\n\u001b[0;32m    209\u001b[0m                 \u001b[1;32melse\u001b[0m\u001b[1;33m:\u001b[0m\u001b[1;33m\u001b[0m\u001b[1;33m\u001b[0m\u001b[0m\n\u001b[0;32m    210\u001b[0m                     \u001b[0mkwargs\u001b[0m\u001b[1;33m[\u001b[0m\u001b[0mnew_arg_name\u001b[0m\u001b[1;33m]\u001b[0m \u001b[1;33m=\u001b[0m \u001b[0mnew_arg_value\u001b[0m\u001b[1;33m\u001b[0m\u001b[1;33m\u001b[0m\u001b[0m\n\u001b[1;32m--> 211\u001b[1;33m             \u001b[1;32mreturn\u001b[0m \u001b[0mfunc\u001b[0m\u001b[1;33m(\u001b[0m\u001b[1;33m*\u001b[0m\u001b[0margs\u001b[0m\u001b[1;33m,\u001b[0m \u001b[1;33m**\u001b[0m\u001b[0mkwargs\u001b[0m\u001b[1;33m)\u001b[0m\u001b[1;33m\u001b[0m\u001b[1;33m\u001b[0m\u001b[0m\n\u001b[0m\u001b[0;32m    212\u001b[0m \u001b[1;33m\u001b[0m\u001b[0m\n\u001b[0;32m    213\u001b[0m         \u001b[1;32mreturn\u001b[0m \u001b[0mcast\u001b[0m\u001b[1;33m(\u001b[0m\u001b[0mF\u001b[0m\u001b[1;33m,\u001b[0m \u001b[0mwrapper\u001b[0m\u001b[1;33m)\u001b[0m\u001b[1;33m\u001b[0m\u001b[1;33m\u001b[0m\u001b[0m\n",
      "\u001b[1;32mC:\\anaconda\\lib\\site-packages\\pandas\\io\\formats\\format.py\u001b[0m in \u001b[0;36mto_csv\u001b[1;34m(self, path_or_buf, encoding, sep, columns, index_label, mode, compression, quoting, quotechar, lineterminator, chunksize, date_format, doublequote, escapechar, errors, storage_options)\u001b[0m\n\u001b[0;32m   1187\u001b[0m             \u001b[0mformatter\u001b[0m\u001b[1;33m=\u001b[0m\u001b[0mself\u001b[0m\u001b[1;33m.\u001b[0m\u001b[0mfmt\u001b[0m\u001b[1;33m,\u001b[0m\u001b[1;33m\u001b[0m\u001b[1;33m\u001b[0m\u001b[0m\n\u001b[0;32m   1188\u001b[0m         )\n\u001b[1;32m-> 1189\u001b[1;33m         \u001b[0mcsv_formatter\u001b[0m\u001b[1;33m.\u001b[0m\u001b[0msave\u001b[0m\u001b[1;33m(\u001b[0m\u001b[1;33m)\u001b[0m\u001b[1;33m\u001b[0m\u001b[1;33m\u001b[0m\u001b[0m\n\u001b[0m\u001b[0;32m   1190\u001b[0m \u001b[1;33m\u001b[0m\u001b[0m\n\u001b[0;32m   1191\u001b[0m         \u001b[1;32mif\u001b[0m \u001b[0mcreated_buffer\u001b[0m\u001b[1;33m:\u001b[0m\u001b[1;33m\u001b[0m\u001b[1;33m\u001b[0m\u001b[0m\n",
      "\u001b[1;32mC:\\anaconda\\lib\\site-packages\\pandas\\io\\formats\\csvs.py\u001b[0m in \u001b[0;36msave\u001b[1;34m(self)\u001b[0m\n\u001b[0;32m    259\u001b[0m             )\n\u001b[0;32m    260\u001b[0m \u001b[1;33m\u001b[0m\u001b[0m\n\u001b[1;32m--> 261\u001b[1;33m             \u001b[0mself\u001b[0m\u001b[1;33m.\u001b[0m\u001b[0m_save\u001b[0m\u001b[1;33m(\u001b[0m\u001b[1;33m)\u001b[0m\u001b[1;33m\u001b[0m\u001b[1;33m\u001b[0m\u001b[0m\n\u001b[0m\u001b[0;32m    262\u001b[0m \u001b[1;33m\u001b[0m\u001b[0m\n\u001b[0;32m    263\u001b[0m     \u001b[1;32mdef\u001b[0m \u001b[0m_save\u001b[0m\u001b[1;33m(\u001b[0m\u001b[0mself\u001b[0m\u001b[1;33m)\u001b[0m \u001b[1;33m->\u001b[0m \u001b[1;32mNone\u001b[0m\u001b[1;33m:\u001b[0m\u001b[1;33m\u001b[0m\u001b[1;33m\u001b[0m\u001b[0m\n",
      "\u001b[1;32mC:\\anaconda\\lib\\site-packages\\pandas\\io\\formats\\csvs.py\u001b[0m in \u001b[0;36m_save\u001b[1;34m(self)\u001b[0m\n\u001b[0;32m    264\u001b[0m         \u001b[1;32mif\u001b[0m \u001b[0mself\u001b[0m\u001b[1;33m.\u001b[0m\u001b[0m_need_to_save_header\u001b[0m\u001b[1;33m:\u001b[0m\u001b[1;33m\u001b[0m\u001b[1;33m\u001b[0m\u001b[0m\n\u001b[0;32m    265\u001b[0m             \u001b[0mself\u001b[0m\u001b[1;33m.\u001b[0m\u001b[0m_save_header\u001b[0m\u001b[1;33m(\u001b[0m\u001b[1;33m)\u001b[0m\u001b[1;33m\u001b[0m\u001b[1;33m\u001b[0m\u001b[0m\n\u001b[1;32m--> 266\u001b[1;33m         \u001b[0mself\u001b[0m\u001b[1;33m.\u001b[0m\u001b[0m_save_body\u001b[0m\u001b[1;33m(\u001b[0m\u001b[1;33m)\u001b[0m\u001b[1;33m\u001b[0m\u001b[1;33m\u001b[0m\u001b[0m\n\u001b[0m\u001b[0;32m    267\u001b[0m \u001b[1;33m\u001b[0m\u001b[0m\n\u001b[0;32m    268\u001b[0m     \u001b[1;32mdef\u001b[0m \u001b[0m_save_header\u001b[0m\u001b[1;33m(\u001b[0m\u001b[0mself\u001b[0m\u001b[1;33m)\u001b[0m \u001b[1;33m->\u001b[0m \u001b[1;32mNone\u001b[0m\u001b[1;33m:\u001b[0m\u001b[1;33m\u001b[0m\u001b[1;33m\u001b[0m\u001b[0m\n",
      "\u001b[1;32mC:\\anaconda\\lib\\site-packages\\pandas\\io\\formats\\csvs.py\u001b[0m in \u001b[0;36m_save_body\u001b[1;34m(self)\u001b[0m\n\u001b[0;32m    302\u001b[0m             \u001b[1;32mif\u001b[0m \u001b[0mstart_i\u001b[0m \u001b[1;33m>=\u001b[0m \u001b[0mend_i\u001b[0m\u001b[1;33m:\u001b[0m\u001b[1;33m\u001b[0m\u001b[1;33m\u001b[0m\u001b[0m\n\u001b[0;32m    303\u001b[0m                 \u001b[1;32mbreak\u001b[0m\u001b[1;33m\u001b[0m\u001b[1;33m\u001b[0m\u001b[0m\n\u001b[1;32m--> 304\u001b[1;33m             \u001b[0mself\u001b[0m\u001b[1;33m.\u001b[0m\u001b[0m_save_chunk\u001b[0m\u001b[1;33m(\u001b[0m\u001b[0mstart_i\u001b[0m\u001b[1;33m,\u001b[0m \u001b[0mend_i\u001b[0m\u001b[1;33m)\u001b[0m\u001b[1;33m\u001b[0m\u001b[1;33m\u001b[0m\u001b[0m\n\u001b[0m\u001b[0;32m    305\u001b[0m \u001b[1;33m\u001b[0m\u001b[0m\n\u001b[0;32m    306\u001b[0m     \u001b[1;32mdef\u001b[0m \u001b[0m_save_chunk\u001b[0m\u001b[1;33m(\u001b[0m\u001b[0mself\u001b[0m\u001b[1;33m,\u001b[0m \u001b[0mstart_i\u001b[0m\u001b[1;33m:\u001b[0m \u001b[0mint\u001b[0m\u001b[1;33m,\u001b[0m \u001b[0mend_i\u001b[0m\u001b[1;33m:\u001b[0m \u001b[0mint\u001b[0m\u001b[1;33m)\u001b[0m \u001b[1;33m->\u001b[0m \u001b[1;32mNone\u001b[0m\u001b[1;33m:\u001b[0m\u001b[1;33m\u001b[0m\u001b[1;33m\u001b[0m\u001b[0m\n",
      "\u001b[1;32mC:\\anaconda\\lib\\site-packages\\pandas\\io\\formats\\csvs.py\u001b[0m in \u001b[0;36m_save_chunk\u001b[1;34m(self, start_i, end_i)\u001b[0m\n\u001b[0;32m    313\u001b[0m \u001b[1;33m\u001b[0m\u001b[0m\n\u001b[0;32m    314\u001b[0m         \u001b[0mix\u001b[0m \u001b[1;33m=\u001b[0m \u001b[0mself\u001b[0m\u001b[1;33m.\u001b[0m\u001b[0mdata_index\u001b[0m\u001b[1;33m[\u001b[0m\u001b[0mslicer\u001b[0m\u001b[1;33m]\u001b[0m\u001b[1;33m.\u001b[0m\u001b[0m_format_native_types\u001b[0m\u001b[1;33m(\u001b[0m\u001b[1;33m**\u001b[0m\u001b[0mself\u001b[0m\u001b[1;33m.\u001b[0m\u001b[0m_number_format\u001b[0m\u001b[1;33m)\u001b[0m\u001b[1;33m\u001b[0m\u001b[1;33m\u001b[0m\u001b[0m\n\u001b[1;32m--> 315\u001b[1;33m         libwriters.write_csv_rows(\n\u001b[0m\u001b[0;32m    316\u001b[0m             \u001b[0mdata\u001b[0m\u001b[1;33m,\u001b[0m\u001b[1;33m\u001b[0m\u001b[1;33m\u001b[0m\u001b[0m\n\u001b[0;32m    317\u001b[0m             \u001b[0mix\u001b[0m\u001b[1;33m,\u001b[0m\u001b[1;33m\u001b[0m\u001b[1;33m\u001b[0m\u001b[0m\n",
      "\u001b[1;32mC:\\anaconda\\lib\\site-packages\\pandas\\_libs\\writers.pyx\u001b[0m in \u001b[0;36mpandas._libs.writers.write_csv_rows\u001b[1;34m()\u001b[0m\n",
      "\u001b[1;32mC:\\anaconda\\lib\\encodings\\cp1251.py\u001b[0m in \u001b[0;36mencode\u001b[1;34m(self, input, final)\u001b[0m\n\u001b[0;32m     17\u001b[0m \u001b[1;32mclass\u001b[0m \u001b[0mIncrementalEncoder\u001b[0m\u001b[1;33m(\u001b[0m\u001b[0mcodecs\u001b[0m\u001b[1;33m.\u001b[0m\u001b[0mIncrementalEncoder\u001b[0m\u001b[1;33m)\u001b[0m\u001b[1;33m:\u001b[0m\u001b[1;33m\u001b[0m\u001b[1;33m\u001b[0m\u001b[0m\n\u001b[0;32m     18\u001b[0m     \u001b[1;32mdef\u001b[0m \u001b[0mencode\u001b[0m\u001b[1;33m(\u001b[0m\u001b[0mself\u001b[0m\u001b[1;33m,\u001b[0m \u001b[0minput\u001b[0m\u001b[1;33m,\u001b[0m \u001b[0mfinal\u001b[0m\u001b[1;33m=\u001b[0m\u001b[1;32mFalse\u001b[0m\u001b[1;33m)\u001b[0m\u001b[1;33m:\u001b[0m\u001b[1;33m\u001b[0m\u001b[1;33m\u001b[0m\u001b[0m\n\u001b[1;32m---> 19\u001b[1;33m         \u001b[1;32mreturn\u001b[0m \u001b[0mcodecs\u001b[0m\u001b[1;33m.\u001b[0m\u001b[0mcharmap_encode\u001b[0m\u001b[1;33m(\u001b[0m\u001b[0minput\u001b[0m\u001b[1;33m,\u001b[0m\u001b[0mself\u001b[0m\u001b[1;33m.\u001b[0m\u001b[0merrors\u001b[0m\u001b[1;33m,\u001b[0m\u001b[0mencoding_table\u001b[0m\u001b[1;33m)\u001b[0m\u001b[1;33m[\u001b[0m\u001b[1;36m0\u001b[0m\u001b[1;33m]\u001b[0m\u001b[1;33m\u001b[0m\u001b[1;33m\u001b[0m\u001b[0m\n\u001b[0m\u001b[0;32m     20\u001b[0m \u001b[1;33m\u001b[0m\u001b[0m\n\u001b[0;32m     21\u001b[0m \u001b[1;32mclass\u001b[0m \u001b[0mIncrementalDecoder\u001b[0m\u001b[1;33m(\u001b[0m\u001b[0mcodecs\u001b[0m\u001b[1;33m.\u001b[0m\u001b[0mIncrementalDecoder\u001b[0m\u001b[1;33m)\u001b[0m\u001b[1;33m:\u001b[0m\u001b[1;33m\u001b[0m\u001b[1;33m\u001b[0m\u001b[0m\n",
      "\u001b[1;31mUnicodeEncodeError\u001b[0m: 'charmap' codec can't encode character '\\xa3' in position 86: character maps to <undefined>"
     ]
    }
   ],
   "source": [
    "data = pd.read_csv('Train_GCC-training.tsv', sep='\\t', header=0, names=['text', 'link'])\n",
    "data = data.sample(frac=1)\n",
    "\n",
    "downloaded_count = 0\n",
    "\n",
    "data_w_texts = pd.DataFrame(columns=['name', 'text']) \n",
    "for i, row in tqdm(data.iterrows(), total=data.shape[0]):\n",
    "    if downloaded_count == 30000:\n",
    "        break\n",
    "    tensor = link_to_image(row['link'])\n",
    "    try: \n",
    "        if tensor != None:\n",
    "            filename = str(uuid.uuid4())\n",
    "            image_to_tensor(tensor, filename=f\"F:/Вера/Диплом/Датасеты/GCC/{filename}.jpeg\")\n",
    "            data_w_texts.loc[len(data_w_texts)] = [f\"F:/Вера/Диплом/Датасеты/GCC/{filename}.jpeg\", data['text'][i]]\n",
    "            downloaded_count += 1\n",
    "    except: \n",
    "        continue\n",
    "        \n",
    "data_w_texts.to_csv('F:/Вера/Диплом/Датасеты/GCC_all_data.csv')"
   ]
  },
  {
   "cell_type": "markdown",
   "metadata": {},
   "source": [
    "## Скачка датасета Flicker30k"
   ]
  },
  {
   "cell_type": "code",
   "execution_count": 29,
   "metadata": {},
   "outputs": [],
   "source": [
    "annotations = defaultdict(list)\n",
    "with open('results_20130124.token') as fh:\n",
    "    for line in fh:\n",
    "        img_id, caption = line.strip().split(\"\\t\")\n",
    "        annotations[img_id[:-2]].append(caption)"
   ]
  },
  {
   "cell_type": "code",
   "execution_count": 58,
   "metadata": {},
   "outputs": [
    {
     "data": {
      "text/plain": [
       "'Two young guys with shaggy hair look at their hands while hanging out in the yard .'"
      ]
     },
     "execution_count": 58,
     "metadata": {},
     "output_type": "execute_result"
    }
   ],
   "source": [
    "def max_len_annotation(annotation):\n",
    "    return sorted(annotation, key = lambda x: len(x))[-1]"
   ]
  },
  {
   "cell_type": "code",
   "execution_count": 60,
   "metadata": {},
   "outputs": [
    {
     "name": "stderr",
     "output_type": "stream",
     "text": [
      "100%|████████████████████████████████████████████████████████████████████████████| 31783/31783 [05:35<00:00, 94.61it/s]\n"
     ]
    }
   ],
   "source": [
    "flicker = pd.DataFrame(columns=['name', 'text']) \n",
    "for i in tqdm(range(len(annotations))):\n",
    "    flicker.loc[len(flicker)] = [f\"F:/Вера/Диплом/Датасеты/flickr30k-images/{list(annotations.keys())[i]}.jpeg\", max_len_annotation(annotations[list(annotations.keys())[i]])]\n",
    "flicker.to_csv('F:/Вера/Диплом/Датасеты/flicker_all_data.csv')"
   ]
  },
  {
   "cell_type": "markdown",
   "metadata": {},
   "source": [
    "## Скачка датасета MS COCO"
   ]
  },
  {
   "cell_type": "code",
   "execution_count": 2,
   "metadata": {},
   "outputs": [],
   "source": [
    "f = open('F:/Вера/Диплом/Датасеты/annotations_trainval2014/annotations/captions_val2014.json')\n",
    "data = json.load(f)\n",
    "\n",
    "images = data[list(data.keys())[1]]\n",
    "anns = data[list(data.keys())[3]]"
   ]
  },
  {
   "cell_type": "code",
   "execution_count": 5,
   "metadata": {},
   "outputs": [
    {
     "name": "stderr",
     "output_type": "stream",
     "text": [
      "100%|██████████████████████████████████████████████████████████████████████████| 30000/30000 [1:17:00<00:00,  6.49it/s]\n"
     ]
    }
   ],
   "source": [
    "coco_set = pd.DataFrame(columns=['name', 'text']) \n",
    "\n",
    "for image in tqdm(images[:30000]):\n",
    "    image_id = image['id']\n",
    "    ann_list = []\n",
    "    for ann in anns:\n",
    "        ann_id = ann[list(anns[0].keys())[0]] \n",
    "        if ann_id == image_id:\n",
    "            ann_list.append(ann[list(anns[0].keys())[2]])\n",
    "    coco_set.loc[len(coco_set)] = [f\"F:/Вера/Диплом/Датасеты/val2014/val2014/{image['file_name']}\", sorted(ann_list, key = lambda x: len(x))[-1]]\n",
    "coco_set.to_csv('F:/Вера/Диплом/Датасеты/coco_all_data.csv')"
   ]
  },
  {
   "cell_type": "markdown",
   "metadata": {},
   "source": [
    "## Приведение датасетов к одному формату"
   ]
  },
  {
   "cell_type": "code",
   "execution_count": null,
   "metadata": {},
   "outputs": [],
   "source": [
    "data = pd.read_csv('F:/Вера/Диплом/Датасеты/GCC_all_data.csv', index_col = 0)\n",
    "data['text'] = data['text'].str.replace(';', '').values\n",
    "data.columns = ['path', 'text']\n",
    "data.to_csv('F:/Вера/Диплом/Датасеты/GCC_all_data.csv')"
   ]
  },
  {
   "cell_type": "code",
   "execution_count": null,
   "metadata": {},
   "outputs": [],
   "source": [
    "data = pd.read_csv('F:/Вера/Диплом/Датасеты/flicker_all_data.csv', index_col = 0)\n",
    "data.columns = ['path', 'text']\n",
    "data['path'] = data['path'].str.replace('.jpeg', '').values\n",
    "data = data.iloc[:30000]\n",
    "data.to_csv('F:/Вера/Диплом/Датасеты/flicker_all_data.csv')"
   ]
  },
  {
   "cell_type": "code",
   "execution_count": null,
   "metadata": {},
   "outputs": [],
   "source": [
    "data = pd.read_csv('F:/Вера/Диплом/Датасеты/coco_all_data.csv', index_col = 0)\n",
    "data.columns = ['path', 'text']\n",
    "data.to_csv('F:/Вера/Диплом/Датасеты/coco_all_data.csv')"
   ]
  },
  {
   "cell_type": "markdown",
   "metadata": {},
   "source": [
    "## Исправление ошибок в датасете GCC"
   ]
  },
  {
   "cell_type": "code",
   "execution_count": null,
   "metadata": {},
   "outputs": [],
   "source": [
    "\n",
    "new_data = pd.DataFrame(columns=['path', 'text'])\n",
    "for i, row in data.iterrows():\n",
    "    if row.isna().sum():\n",
    "        new_data.loc[len(new_data)] = [re.search(r'\\d+,(.+),\"(.+)\"', s).group(1), re.search(r'\\d+,(.+),\"(.+)\"', s).group(2)]\n",
    "    else:\n",
    "        new_data.loc[len(new_data)] = row\n",
    "        \n",
    "new_data.to_csv('GCC_all_data.csv')"
   ]
  },
  {
   "cell_type": "markdown",
   "metadata": {},
   "source": [
    "## Перевод описаний"
   ]
  },
  {
   "cell_type": "code",
   "execution_count": null,
   "metadata": {},
   "outputs": [],
   "source": [
    "api_data = [\n",
    "    {\n",
    "        'api_key': 'AQVNzuPBvQ5y_nutJSYrlsTcBUCMnmQBkJn_Nmmg',\n",
    "        'folder_id': 'b1g8gn09v76kh6c65l8u'\n",
    "    },\n",
    "    {\n",
    "        'api_key': 'AQVN0DPxoZUjOr0cDkKDgyrGJx2CfaHG5-Z_dPIp',\n",
    "        'folder_id': 'b1g7huvths893e6lgdn2'\n",
    "    }\n",
    "]"
   ]
  },
  {
   "cell_type": "code",
   "execution_count": 12,
   "metadata": {},
   "outputs": [],
   "source": [
    "def translate_ru(sentence):\n",
    "\n",
    "    api_key = 'AQVNzuPBvQ5y_nutJSYrlsTcBUCMnmQBkJn_Nmmg'\n",
    "    folder_id = 'b1g8gn09v76kh6c65l8u'\n",
    "    target_language = 'ru'\n",
    "    \n",
    "    body = {\n",
    "        \"targetLanguageCode\": target_language,\n",
    "        \"texts\": sentence,\n",
    "        \"folderId\": folder_id,\n",
    "    }\n",
    "\n",
    "    headers = {\n",
    "        \"Content-Type\": \"application/json\",\n",
    "        \"Authorization\": \"Api-Key {0}\".format(api_key)\n",
    "    }\n",
    "\n",
    "    response = requests.post('https://translate.api.cloud.yandex.net/translate/v2/translate',\n",
    "        json = body,\n",
    "        headers = headers\n",
    "    )\n",
    "\n",
    "    return response.json()['translations'][0]['text']"
   ]
  },
  {
   "cell_type": "code",
   "execution_count": 3,
   "metadata": {},
   "outputs": [
    {
     "name": "stderr",
     "output_type": "stream",
     "text": [
      "100%|██████████████████████████████████████████████████████████████████████████| 30000/30000 [2:19:18<00:00,  3.59it/s]\n"
     ]
    }
   ],
   "source": [
    "data = pd.read_csv('F:/Вера/Диплом/Датасеты/GCC_all_data.csv', index_col = 0)\n",
    "translations = []\n",
    "for text in tqdm(data['text'].values):\n",
    "    try:\n",
    "        t = translate_ru(text)\n",
    "    except:\n",
    "        t = translate_ru(text)\n",
    "    translations.append(t)\n",
    "data['translations'] = translations"
   ]
  },
  {
   "cell_type": "code",
   "execution_count": 8,
   "metadata": {},
   "outputs": [],
   "source": [
    "data.to_csv('F:/Вера/Диплом/Датасеты/GCC_all_data.csv')"
   ]
  },
  {
   "cell_type": "code",
   "execution_count": 8,
   "metadata": {},
   "outputs": [
    {
     "name": "stderr",
     "output_type": "stream",
     "text": [
      "100%|██████████████████████████████████████████████████████████████████████████| 30000/30000 [2:53:28<00:00,  2.88it/s]\n"
     ]
    }
   ],
   "source": [
    "data = pd.read_csv('F:/Вера/Диплом/Датасеты/flicker_all_data.csv', index_col = 0)\n",
    "translations = []\n",
    "for text in tqdm(data['text'].values):\n",
    "    try:\n",
    "        t = translate_ru(text)\n",
    "    except:\n",
    "        t = translate_ru(text)\n",
    "    translations.append(t)\n",
    "data['translations'] = translations"
   ]
  },
  {
   "cell_type": "code",
   "execution_count": 10,
   "metadata": {},
   "outputs": [],
   "source": [
    "data.to_csv('F:/Вера/Диплом/Датасеты/flicker_all_data.csv')"
   ]
  },
  {
   "cell_type": "code",
   "execution_count": 13,
   "metadata": {},
   "outputs": [
    {
     "name": "stderr",
     "output_type": "stream",
     "text": [
      "100%|██████████████████████████████████████████████████████████████████████████| 30000/30000 [2:37:42<00:00,  3.17it/s]\n"
     ]
    }
   ],
   "source": [
    "data = pd.read_csv('F:/Вера/Диплом/Датасеты/coco_all_data.csv', index_col = 0)\n",
    "translations = []\n",
    "for text in tqdm(data['text'].values):\n",
    "    try:\n",
    "        t = translate_ru(text)\n",
    "    except:\n",
    "        t = translate_ru(text)\n",
    "    translations.append(t)\n",
    "data['translations'] = translations"
   ]
  },
  {
   "cell_type": "code",
   "execution_count": 15,
   "metadata": {},
   "outputs": [],
   "source": [
    "data.to_csv('F:/Вера/Диплом/Датасеты/coco_all_data.csv')"
   ]
  },
  {
   "cell_type": "markdown",
   "metadata": {},
   "source": [
    "## Запись картинок в виде тензоров"
   ]
  },
  {
   "cell_type": "code",
   "execution_count": 3,
   "metadata": {},
   "outputs": [],
   "source": [
    "def path_tensor(path):\n",
    "    image = Image.open(path)\n",
    "    tensor = transform(image)\n",
    "    return tensor"
   ]
  },
  {
   "cell_type": "code",
   "execution_count": 2,
   "metadata": {},
   "outputs": [],
   "source": [
    "transform = transforms.Compose([\n",
    "    transforms.PILToTensor(),\n",
    "    transforms.Resize(size=(224,224))\n",
    "])"
   ]
  },
  {
   "cell_type": "code",
   "execution_count": 4,
   "metadata": {},
   "outputs": [
    {
     "name": "stderr",
     "output_type": "stream",
     "text": [
      "100%|████████████████████████████████████████████████████████████████████████████| 30000/30000 [12:13<00:00, 40.89it/s]\n"
     ]
    },
    {
     "data": {
      "text/html": [
       "<div>\n",
       "<style scoped>\n",
       "    .dataframe tbody tr th:only-of-type {\n",
       "        vertical-align: middle;\n",
       "    }\n",
       "\n",
       "    .dataframe tbody tr th {\n",
       "        vertical-align: top;\n",
       "    }\n",
       "\n",
       "    .dataframe thead th {\n",
       "        text-align: right;\n",
       "    }\n",
       "</style>\n",
       "<table border=\"1\" class=\"dataframe\">\n",
       "  <thead>\n",
       "    <tr style=\"text-align: right;\">\n",
       "      <th></th>\n",
       "      <th>path</th>\n",
       "      <th>text</th>\n",
       "      <th>translations</th>\n",
       "      <th>tensor</th>\n",
       "    </tr>\n",
       "  </thead>\n",
       "  <tbody>\n",
       "    <tr>\n",
       "      <th>0</th>\n",
       "      <td>F:/Вера/Диплом/Датасеты/GCC/7b82b7ca-ce2f-43d4...</td>\n",
       "      <td>the little knownqualified rugby players playin...</td>\n",
       "      <td>малоизвестные квалифицированные регбисты, игра...</td>\n",
       "      <td>[[[tensor(240, dtype=torch.uint8), tensor(213,...</td>\n",
       "    </tr>\n",
       "    <tr>\n",
       "      <th>1</th>\n",
       "      <td>F:/Вера/Диплом/Датасеты/GCC/b3f5adbb-1492-4719...</td>\n",
       "      <td>a red checkered vector background with grunge ...</td>\n",
       "      <td>векторный фон в красную клетку с гранжевой тек...</td>\n",
       "      <td>[[[tensor(238, dtype=torch.uint8), tensor(239,...</td>\n",
       "    </tr>\n",
       "    <tr>\n",
       "      <th>2</th>\n",
       "      <td>F:/Вера/Диплом/Датасеты/GCC/2bbcd6d9-8ada-4cad...</td>\n",
       "      <td>man and woman sitting under umbrella with pood...</td>\n",
       "      <td>мужчина и женщина сидят под зонтиком с пуделем...</td>\n",
       "      <td>[[[tensor(158, dtype=torch.uint8), tensor(158,...</td>\n",
       "    </tr>\n",
       "    <tr>\n",
       "      <th>3</th>\n",
       "      <td>F:/Вера/Диплом/Датасеты/GCC/1d09d550-c1a6-47b1...</td>\n",
       "      <td>makes an excellent shield from the chill .</td>\n",
       "      <td>получается отличная защита от холода.</td>\n",
       "      <td>[[[tensor(70, dtype=torch.uint8), tensor(69, d...</td>\n",
       "    </tr>\n",
       "    <tr>\n",
       "      <th>4</th>\n",
       "      <td>F:/Вера/Диплом/Датасеты/GCC/570a145c-3b86-4216...</td>\n",
       "      <td>a wild horse makes its way across snow covered...</td>\n",
       "      <td>дикая лошадь пробирается по заснеженным полям ...</td>\n",
       "      <td>[[[tensor(48, dtype=torch.uint8), tensor(53, d...</td>\n",
       "    </tr>\n",
       "    <tr>\n",
       "      <th>...</th>\n",
       "      <td>...</td>\n",
       "      <td>...</td>\n",
       "      <td>...</td>\n",
       "      <td>...</td>\n",
       "    </tr>\n",
       "    <tr>\n",
       "      <th>29995</th>\n",
       "      <td>F:/Вера/Диплом/Датасеты/GCC/b89ea829-32f0-4845...</td>\n",
       "      <td>find out the best bangs for your face shape !</td>\n",
       "      <td>узнайте, какая челка лучше всего подходит для ...</td>\n",
       "      <td>[[[tensor(250, dtype=torch.uint8), tensor(250,...</td>\n",
       "    </tr>\n",
       "    <tr>\n",
       "      <th>29996</th>\n",
       "      <td>F:/Вера/Диплом/Датасеты/GCC/55b61296-3732-40f3...</td>\n",
       "      <td>vector illustration of stylish guys on a dirty...</td>\n",
       "      <td>векторная иллюстрация стильных парней на грязн...</td>\n",
       "      <td>[[[tensor(255, dtype=torch.uint8), tensor(255,...</td>\n",
       "    </tr>\n",
       "    <tr>\n",
       "      <th>29997</th>\n",
       "      <td>F:/Вера/Диплом/Датасеты/GCC/52aa43f9-a0bc-4d9b...</td>\n",
       "      <td>the back porch of person and home .</td>\n",
       "      <td>заднее крыльцо человека и дома .</td>\n",
       "      <td>[[[tensor(191, dtype=torch.uint8), tensor(220,...</td>\n",
       "    </tr>\n",
       "    <tr>\n",
       "      <th>29998</th>\n",
       "      <td>F:/Вера/Диплом/Датасеты/GCC/f52d19e0-4cdc-418a...</td>\n",
       "      <td>at times your hot - air balloon will glide jus...</td>\n",
       "      <td>время от времени ваш воздушный шар будет сколь...</td>\n",
       "      <td>[[[tensor(254, dtype=torch.uint8), tensor(252,...</td>\n",
       "    </tr>\n",
       "    <tr>\n",
       "      <th>29999</th>\n",
       "      <td>F:/Вера/Диплом/Датасеты/GCC/ff404547-4830-44ca...</td>\n",
       "      <td>nuclear symbol isolated on the white .</td>\n",
       "      <td>ядерный символ , выделенный на белом фоне .</td>\n",
       "      <td>[[[tensor(255, dtype=torch.uint8), tensor(255,...</td>\n",
       "    </tr>\n",
       "  </tbody>\n",
       "</table>\n",
       "<p>30000 rows × 4 columns</p>\n",
       "</div>"
      ],
      "text/plain": [
       "                                                    path  \\\n",
       "0      F:/Вера/Диплом/Датасеты/GCC/7b82b7ca-ce2f-43d4...   \n",
       "1      F:/Вера/Диплом/Датасеты/GCC/b3f5adbb-1492-4719...   \n",
       "2      F:/Вера/Диплом/Датасеты/GCC/2bbcd6d9-8ada-4cad...   \n",
       "3      F:/Вера/Диплом/Датасеты/GCC/1d09d550-c1a6-47b1...   \n",
       "4      F:/Вера/Диплом/Датасеты/GCC/570a145c-3b86-4216...   \n",
       "...                                                  ...   \n",
       "29995  F:/Вера/Диплом/Датасеты/GCC/b89ea829-32f0-4845...   \n",
       "29996  F:/Вера/Диплом/Датасеты/GCC/55b61296-3732-40f3...   \n",
       "29997  F:/Вера/Диплом/Датасеты/GCC/52aa43f9-a0bc-4d9b...   \n",
       "29998  F:/Вера/Диплом/Датасеты/GCC/f52d19e0-4cdc-418a...   \n",
       "29999  F:/Вера/Диплом/Датасеты/GCC/ff404547-4830-44ca...   \n",
       "\n",
       "                                                    text  \\\n",
       "0      the little knownqualified rugby players playin...   \n",
       "1      a red checkered vector background with grunge ...   \n",
       "2      man and woman sitting under umbrella with pood...   \n",
       "3             makes an excellent shield from the chill .   \n",
       "4      a wild horse makes its way across snow covered...   \n",
       "...                                                  ...   \n",
       "29995      find out the best bangs for your face shape !   \n",
       "29996  vector illustration of stylish guys on a dirty...   \n",
       "29997                the back porch of person and home .   \n",
       "29998  at times your hot - air balloon will glide jus...   \n",
       "29999             nuclear symbol isolated on the white .   \n",
       "\n",
       "                                            translations  \\\n",
       "0      малоизвестные квалифицированные регбисты, игра...   \n",
       "1      векторный фон в красную клетку с гранжевой тек...   \n",
       "2      мужчина и женщина сидят под зонтиком с пуделем...   \n",
       "3                  получается отличная защита от холода.   \n",
       "4      дикая лошадь пробирается по заснеженным полям ...   \n",
       "...                                                  ...   \n",
       "29995  узнайте, какая челка лучше всего подходит для ...   \n",
       "29996  векторная иллюстрация стильных парней на грязн...   \n",
       "29997                   заднее крыльцо человека и дома .   \n",
       "29998  время от времени ваш воздушный шар будет сколь...   \n",
       "29999        ядерный символ , выделенный на белом фоне .   \n",
       "\n",
       "                                                  tensor  \n",
       "0      [[[tensor(240, dtype=torch.uint8), tensor(213,...  \n",
       "1      [[[tensor(238, dtype=torch.uint8), tensor(239,...  \n",
       "2      [[[tensor(158, dtype=torch.uint8), tensor(158,...  \n",
       "3      [[[tensor(70, dtype=torch.uint8), tensor(69, d...  \n",
       "4      [[[tensor(48, dtype=torch.uint8), tensor(53, d...  \n",
       "...                                                  ...  \n",
       "29995  [[[tensor(250, dtype=torch.uint8), tensor(250,...  \n",
       "29996  [[[tensor(255, dtype=torch.uint8), tensor(255,...  \n",
       "29997  [[[tensor(191, dtype=torch.uint8), tensor(220,...  \n",
       "29998  [[[tensor(254, dtype=torch.uint8), tensor(252,...  \n",
       "29999  [[[tensor(255, dtype=torch.uint8), tensor(255,...  \n",
       "\n",
       "[30000 rows x 4 columns]"
      ]
     },
     "execution_count": 4,
     "metadata": {},
     "output_type": "execute_result"
    }
   ],
   "source": [
    "tqdm.pandas()\n",
    "data = pd.read_csv('F:/Вера/Диплом/Датасеты/GCC_all_data.csv', index_col=0)\n",
    "data['tensor'] = data['path'].progress_apply(lambda x: path_tensor(x))"
   ]
  },
  {
   "cell_type": "code",
   "execution_count": 7,
   "metadata": {},
   "outputs": [
    {
     "ename": "ValueError",
     "evalue": "I/O operation on closed file.",
     "output_type": "error",
     "traceback": [
      "\u001b[1;31m---------------------------------------------------------------------------\u001b[0m",
      "\u001b[1;31mMemoryError\u001b[0m                               Traceback (most recent call last)",
      "\u001b[1;32mC:\\anaconda\\lib\\site-packages\\torch\\serialization.py\u001b[0m in \u001b[0;36msave\u001b[1;34m(obj, f, pickle_module, pickle_protocol, _use_new_zipfile_serialization)\u001b[0m\n\u001b[0;32m    426\u001b[0m         \u001b[1;32mwith\u001b[0m \u001b[0m_open_file_like\u001b[0m\u001b[1;33m(\u001b[0m\u001b[0mf\u001b[0m\u001b[1;33m,\u001b[0m \u001b[1;34m'wb'\u001b[0m\u001b[1;33m)\u001b[0m \u001b[1;32mas\u001b[0m \u001b[0mopened_file\u001b[0m\u001b[1;33m:\u001b[0m\u001b[1;33m\u001b[0m\u001b[1;33m\u001b[0m\u001b[0m\n\u001b[1;32m--> 427\u001b[1;33m             \u001b[0m_legacy_save\u001b[0m\u001b[1;33m(\u001b[0m\u001b[0mobj\u001b[0m\u001b[1;33m,\u001b[0m \u001b[0mopened_file\u001b[0m\u001b[1;33m,\u001b[0m \u001b[0mpickle_module\u001b[0m\u001b[1;33m,\u001b[0m \u001b[0mpickle_protocol\u001b[0m\u001b[1;33m)\u001b[0m\u001b[1;33m\u001b[0m\u001b[1;33m\u001b[0m\u001b[0m\n\u001b[0m\u001b[0;32m    428\u001b[0m \u001b[1;33m\u001b[0m\u001b[0m\n",
      "\u001b[1;32mC:\\anaconda\\lib\\site-packages\\torch\\serialization.py\u001b[0m in \u001b[0;36m_legacy_save\u001b[1;34m(obj, f, pickle_module, pickle_protocol)\u001b[0m\n\u001b[0;32m    570\u001b[0m         \u001b[0mstorage\u001b[0m\u001b[1;33m,\u001b[0m \u001b[0mdtype\u001b[0m \u001b[1;33m=\u001b[0m \u001b[0mserialized_storages\u001b[0m\u001b[1;33m[\u001b[0m\u001b[0mkey\u001b[0m\u001b[1;33m]\u001b[0m\u001b[1;33m\u001b[0m\u001b[1;33m\u001b[0m\u001b[0m\n\u001b[1;32m--> 571\u001b[1;33m         \u001b[0mstorage\u001b[0m\u001b[1;33m.\u001b[0m\u001b[0m_write_file\u001b[0m\u001b[1;33m(\u001b[0m\u001b[0mf\u001b[0m\u001b[1;33m,\u001b[0m \u001b[0m_should_read_directly\u001b[0m\u001b[1;33m(\u001b[0m\u001b[0mf\u001b[0m\u001b[1;33m)\u001b[0m\u001b[1;33m,\u001b[0m \u001b[1;32mTrue\u001b[0m\u001b[1;33m,\u001b[0m \u001b[0mtorch\u001b[0m\u001b[1;33m.\u001b[0m\u001b[0m_utils\u001b[0m\u001b[1;33m.\u001b[0m\u001b[0m_element_size\u001b[0m\u001b[1;33m(\u001b[0m\u001b[0mdtype\u001b[0m\u001b[1;33m)\u001b[0m\u001b[1;33m)\u001b[0m\u001b[1;33m\u001b[0m\u001b[1;33m\u001b[0m\u001b[0m\n\u001b[0m\u001b[0;32m    572\u001b[0m \u001b[1;33m\u001b[0m\u001b[0m\n",
      "\u001b[1;31mMemoryError\u001b[0m: ",
      "\nDuring handling of the above exception, another exception occurred:\n",
      "\u001b[1;31mValueError\u001b[0m                                Traceback (most recent call last)",
      "\u001b[1;32m<ipython-input-7-2c22f7807431>\u001b[0m in \u001b[0;36m<module>\u001b[1;34m\u001b[0m\n\u001b[0;32m      1\u001b[0m \u001b[1;32mimport\u001b[0m \u001b[0mpickle\u001b[0m\u001b[1;33m\u001b[0m\u001b[1;33m\u001b[0m\u001b[0m\n\u001b[0;32m      2\u001b[0m \u001b[1;32mwith\u001b[0m \u001b[0mopen\u001b[0m\u001b[1;33m(\u001b[0m\u001b[1;34m'F:/Вера/Диплом/Датасеты/GCC_data.pickle'\u001b[0m\u001b[1;33m,\u001b[0m \u001b[1;34m'wb'\u001b[0m\u001b[1;33m)\u001b[0m \u001b[1;32mas\u001b[0m \u001b[0mf\u001b[0m\u001b[1;33m:\u001b[0m\u001b[1;33m\u001b[0m\u001b[1;33m\u001b[0m\u001b[0m\n\u001b[1;32m----> 3\u001b[1;33m     \u001b[0mpickle\u001b[0m\u001b[1;33m.\u001b[0m\u001b[0mdump\u001b[0m\u001b[1;33m(\u001b[0m\u001b[0mdata\u001b[0m\u001b[1;33m,\u001b[0m \u001b[0mf\u001b[0m\u001b[1;33m)\u001b[0m\u001b[1;33m\u001b[0m\u001b[1;33m\u001b[0m\u001b[0m\n\u001b[0m",
      "\u001b[1;32mC:\\anaconda\\lib\\site-packages\\torch\\storage.py\u001b[0m in \u001b[0;36m__reduce__\u001b[1;34m(self)\u001b[0m\n\u001b[0;32m    657\u001b[0m     \u001b[1;32mdef\u001b[0m \u001b[0m__reduce__\u001b[0m\u001b[1;33m(\u001b[0m\u001b[0mself\u001b[0m\u001b[1;33m)\u001b[0m\u001b[1;33m:\u001b[0m\u001b[1;33m\u001b[0m\u001b[1;33m\u001b[0m\u001b[0m\n\u001b[0;32m    658\u001b[0m         \u001b[0mb\u001b[0m \u001b[1;33m=\u001b[0m \u001b[0mio\u001b[0m\u001b[1;33m.\u001b[0m\u001b[0mBytesIO\u001b[0m\u001b[1;33m(\u001b[0m\u001b[1;33m)\u001b[0m\u001b[1;33m\u001b[0m\u001b[1;33m\u001b[0m\u001b[0m\n\u001b[1;32m--> 659\u001b[1;33m         \u001b[0mtorch\u001b[0m\u001b[1;33m.\u001b[0m\u001b[0msave\u001b[0m\u001b[1;33m(\u001b[0m\u001b[0mself\u001b[0m\u001b[1;33m,\u001b[0m \u001b[0mb\u001b[0m\u001b[1;33m,\u001b[0m \u001b[0m_use_new_zipfile_serialization\u001b[0m\u001b[1;33m=\u001b[0m\u001b[1;32mFalse\u001b[0m\u001b[1;33m)\u001b[0m\u001b[1;33m\u001b[0m\u001b[1;33m\u001b[0m\u001b[0m\n\u001b[0m\u001b[0;32m    660\u001b[0m         \u001b[1;32mreturn\u001b[0m \u001b[1;33m(\u001b[0m\u001b[0m_load_from_bytes\u001b[0m\u001b[1;33m,\u001b[0m \u001b[1;33m(\u001b[0m\u001b[0mb\u001b[0m\u001b[1;33m.\u001b[0m\u001b[0mgetvalue\u001b[0m\u001b[1;33m(\u001b[0m\u001b[1;33m)\u001b[0m\u001b[1;33m,\u001b[0m\u001b[1;33m)\u001b[0m\u001b[1;33m)\u001b[0m\u001b[1;33m\u001b[0m\u001b[1;33m\u001b[0m\u001b[0m\n\u001b[0;32m    661\u001b[0m \u001b[1;33m\u001b[0m\u001b[0m\n",
      "\u001b[1;32mC:\\anaconda\\lib\\site-packages\\torch\\serialization.py\u001b[0m in \u001b[0;36msave\u001b[1;34m(obj, f, pickle_module, pickle_protocol, _use_new_zipfile_serialization)\u001b[0m\n\u001b[0;32m    425\u001b[0m     \u001b[1;32melse\u001b[0m\u001b[1;33m:\u001b[0m\u001b[1;33m\u001b[0m\u001b[1;33m\u001b[0m\u001b[0m\n\u001b[0;32m    426\u001b[0m         \u001b[1;32mwith\u001b[0m \u001b[0m_open_file_like\u001b[0m\u001b[1;33m(\u001b[0m\u001b[0mf\u001b[0m\u001b[1;33m,\u001b[0m \u001b[1;34m'wb'\u001b[0m\u001b[1;33m)\u001b[0m \u001b[1;32mas\u001b[0m \u001b[0mopened_file\u001b[0m\u001b[1;33m:\u001b[0m\u001b[1;33m\u001b[0m\u001b[1;33m\u001b[0m\u001b[0m\n\u001b[1;32m--> 427\u001b[1;33m             \u001b[0m_legacy_save\u001b[0m\u001b[1;33m(\u001b[0m\u001b[0mobj\u001b[0m\u001b[1;33m,\u001b[0m \u001b[0mopened_file\u001b[0m\u001b[1;33m,\u001b[0m \u001b[0mpickle_module\u001b[0m\u001b[1;33m,\u001b[0m \u001b[0mpickle_protocol\u001b[0m\u001b[1;33m)\u001b[0m\u001b[1;33m\u001b[0m\u001b[1;33m\u001b[0m\u001b[0m\n\u001b[0m\u001b[0;32m    428\u001b[0m \u001b[1;33m\u001b[0m\u001b[0m\n\u001b[0;32m    429\u001b[0m \u001b[1;33m\u001b[0m\u001b[0m\n",
      "\u001b[1;32mC:\\anaconda\\lib\\site-packages\\torch\\serialization.py\u001b[0m in \u001b[0;36m__exit__\u001b[1;34m(self, *args)\u001b[0m\n\u001b[0;32m    263\u001b[0m \u001b[1;32mclass\u001b[0m \u001b[0m_open_buffer_writer\u001b[0m\u001b[1;33m(\u001b[0m\u001b[0m_opener\u001b[0m\u001b[1;33m)\u001b[0m\u001b[1;33m:\u001b[0m\u001b[1;33m\u001b[0m\u001b[1;33m\u001b[0m\u001b[0m\n\u001b[0;32m    264\u001b[0m     \u001b[1;32mdef\u001b[0m \u001b[0m__exit__\u001b[0m\u001b[1;33m(\u001b[0m\u001b[0mself\u001b[0m\u001b[1;33m,\u001b[0m \u001b[1;33m*\u001b[0m\u001b[0margs\u001b[0m\u001b[1;33m)\u001b[0m\u001b[1;33m:\u001b[0m\u001b[1;33m\u001b[0m\u001b[1;33m\u001b[0m\u001b[0m\n\u001b[1;32m--> 265\u001b[1;33m         \u001b[0mself\u001b[0m\u001b[1;33m.\u001b[0m\u001b[0mfile_like\u001b[0m\u001b[1;33m.\u001b[0m\u001b[0mflush\u001b[0m\u001b[1;33m(\u001b[0m\u001b[1;33m)\u001b[0m\u001b[1;33m\u001b[0m\u001b[1;33m\u001b[0m\u001b[0m\n\u001b[0m\u001b[0;32m    266\u001b[0m \u001b[1;33m\u001b[0m\u001b[0m\n\u001b[0;32m    267\u001b[0m \u001b[1;33m\u001b[0m\u001b[0m\n",
      "\u001b[1;31mValueError\u001b[0m: I/O operation on closed file."
     ]
    }
   ],
   "source": [
    "with open('F:/Вера/Диплом/Датасеты/GCC_data.pickle', 'wb') as f:\n",
    "    pickle.dump(data, f)"
   ]
  },
  {
   "cell_type": "code",
   "execution_count": 7,
   "metadata": {},
   "outputs": [
    {
     "name": "stderr",
     "output_type": "stream",
     "text": [
      "100%|████████████████████████████████████████████████████████████████████████████| 30000/30000 [17:18<00:00, 28.90it/s]\n"
     ]
    },
    {
     "data": {
      "text/html": [
       "<div>\n",
       "<style scoped>\n",
       "    .dataframe tbody tr th:only-of-type {\n",
       "        vertical-align: middle;\n",
       "    }\n",
       "\n",
       "    .dataframe tbody tr th {\n",
       "        vertical-align: top;\n",
       "    }\n",
       "\n",
       "    .dataframe thead th {\n",
       "        text-align: right;\n",
       "    }\n",
       "</style>\n",
       "<table border=\"1\" class=\"dataframe\">\n",
       "  <thead>\n",
       "    <tr style=\"text-align: right;\">\n",
       "      <th></th>\n",
       "      <th>path</th>\n",
       "      <th>text</th>\n",
       "      <th>translations</th>\n",
       "      <th>tensor</th>\n",
       "    </tr>\n",
       "  </thead>\n",
       "  <tbody>\n",
       "    <tr>\n",
       "      <th>0</th>\n",
       "      <td>F:/Вера/Диплом/Датасеты/val2014/val2014/COCO_v...</td>\n",
       "      <td>A dirt path with a young person on a motor bik...</td>\n",
       "      <td>Грунтовая дорожка с молодым человеком на мотоц...</td>\n",
       "      <td>[[[tensor(255, dtype=torch.uint8), tensor(255,...</td>\n",
       "    </tr>\n",
       "    <tr>\n",
       "      <th>1</th>\n",
       "      <td>F:/Вера/Диплом/Датасеты/val2014/val2014/COCO_v...</td>\n",
       "      <td>A woman marking a cake with the back of a chef...</td>\n",
       "      <td>Женщина делает пометку на торте тыльной сторон...</td>\n",
       "      <td>[[[tensor(159, dtype=torch.uint8), tensor(159,...</td>\n",
       "    </tr>\n",
       "    <tr>\n",
       "      <th>2</th>\n",
       "      <td>F:/Вера/Диплом/Датасеты/val2014/val2014/COCO_v...</td>\n",
       "      <td>a young boy barefoot holding an umbrella touch...</td>\n",
       "      <td>маленький мальчик босиком держит зонтик, касая...</td>\n",
       "      <td>[[[tensor(237, dtype=torch.uint8), tensor(242,...</td>\n",
       "    </tr>\n",
       "    <tr>\n",
       "      <th>3</th>\n",
       "      <td>F:/Вера/Диплом/Датасеты/val2014/val2014/COCO_v...</td>\n",
       "      <td>a little boy wearing headphones and looking at...</td>\n",
       "      <td>маленький мальчик в наушниках и смотрит на мон...</td>\n",
       "      <td>[[[tensor(98, dtype=torch.uint8), tensor(82, d...</td>\n",
       "    </tr>\n",
       "    <tr>\n",
       "      <th>4</th>\n",
       "      <td>F:/Вера/Диплом/Датасеты/val2014/val2014/COCO_v...</td>\n",
       "      <td>a boy wearing headphones using one computer in...</td>\n",
       "      <td>мальчик в наушниках, пользующийся одним компью...</td>\n",
       "      <td>[[[tensor(132, dtype=torch.uint8), tensor(179,...</td>\n",
       "    </tr>\n",
       "    <tr>\n",
       "      <th>...</th>\n",
       "      <td>...</td>\n",
       "      <td>...</td>\n",
       "      <td>...</td>\n",
       "      <td>...</td>\n",
       "    </tr>\n",
       "    <tr>\n",
       "      <th>29995</th>\n",
       "      <td>F:/Вера/Диплом/Датасеты/val2014/val2014/COCO_v...</td>\n",
       "      <td>Two giraffes behind a wall of boulders, in fro...</td>\n",
       "      <td>Два жирафа за стеной из валунов, перед воротами.</td>\n",
       "      <td>[[[tensor(4, dtype=torch.uint8), tensor(4, dty...</td>\n",
       "    </tr>\n",
       "    <tr>\n",
       "      <th>29996</th>\n",
       "      <td>F:/Вера/Диплом/Датасеты/val2014/val2014/COCO_v...</td>\n",
       "      <td>A bunch of cars driving down a street surround...</td>\n",
       "      <td>Группа машин едет по улице, окруженной высоким...</td>\n",
       "      <td>[[[tensor(147, dtype=torch.uint8), tensor(150,...</td>\n",
       "    </tr>\n",
       "    <tr>\n",
       "      <th>29997</th>\n",
       "      <td>F:/Вера/Диплом/Датасеты/val2014/val2014/COCO_v...</td>\n",
       "      <td>A lone giraffe standing under trees near an op...</td>\n",
       "      <td>Одинокий жираф, стоящий под деревьями возле ав...</td>\n",
       "      <td>[[[tensor(109, dtype=torch.uint8), tensor(108,...</td>\n",
       "    </tr>\n",
       "    <tr>\n",
       "      <th>29998</th>\n",
       "      <td>F:/Вера/Диплом/Датасеты/val2014/val2014/COCO_v...</td>\n",
       "      <td>A sign that might read parking here where bicy...</td>\n",
       "      <td>Знак, который мог бы гласить: \"Парковка здесь,...</td>\n",
       "      <td>[[[tensor(193, dtype=torch.uint8), tensor(192,...</td>\n",
       "    </tr>\n",
       "    <tr>\n",
       "      <th>29999</th>\n",
       "      <td>F:/Вера/Диплом/Датасеты/val2014/val2014/COCO_v...</td>\n",
       "      <td>A traffic sign has been vandalized to look lik...</td>\n",
       "      <td>Дорожный знак был изуродован вандалами, чтобы ...</td>\n",
       "      <td>[[[tensor(16, dtype=torch.uint8), tensor(15, d...</td>\n",
       "    </tr>\n",
       "  </tbody>\n",
       "</table>\n",
       "<p>30000 rows × 4 columns</p>\n",
       "</div>"
      ],
      "text/plain": [
       "                                                    path  \\\n",
       "0      F:/Вера/Диплом/Датасеты/val2014/val2014/COCO_v...   \n",
       "1      F:/Вера/Диплом/Датасеты/val2014/val2014/COCO_v...   \n",
       "2      F:/Вера/Диплом/Датасеты/val2014/val2014/COCO_v...   \n",
       "3      F:/Вера/Диплом/Датасеты/val2014/val2014/COCO_v...   \n",
       "4      F:/Вера/Диплом/Датасеты/val2014/val2014/COCO_v...   \n",
       "...                                                  ...   \n",
       "29995  F:/Вера/Диплом/Датасеты/val2014/val2014/COCO_v...   \n",
       "29996  F:/Вера/Диплом/Датасеты/val2014/val2014/COCO_v...   \n",
       "29997  F:/Вера/Диплом/Датасеты/val2014/val2014/COCO_v...   \n",
       "29998  F:/Вера/Диплом/Датасеты/val2014/val2014/COCO_v...   \n",
       "29999  F:/Вера/Диплом/Датасеты/val2014/val2014/COCO_v...   \n",
       "\n",
       "                                                    text  \\\n",
       "0      A dirt path with a young person on a motor bik...   \n",
       "1      A woman marking a cake with the back of a chef...   \n",
       "2      a young boy barefoot holding an umbrella touch...   \n",
       "3      a little boy wearing headphones and looking at...   \n",
       "4      a boy wearing headphones using one computer in...   \n",
       "...                                                  ...   \n",
       "29995  Two giraffes behind a wall of boulders, in fro...   \n",
       "29996  A bunch of cars driving down a street surround...   \n",
       "29997  A lone giraffe standing under trees near an op...   \n",
       "29998  A sign that might read parking here where bicy...   \n",
       "29999  A traffic sign has been vandalized to look lik...   \n",
       "\n",
       "                                            translations  \\\n",
       "0      Грунтовая дорожка с молодым человеком на мотоц...   \n",
       "1      Женщина делает пометку на торте тыльной сторон...   \n",
       "2      маленький мальчик босиком держит зонтик, касая...   \n",
       "3      маленький мальчик в наушниках и смотрит на мон...   \n",
       "4      мальчик в наушниках, пользующийся одним компью...   \n",
       "...                                                  ...   \n",
       "29995   Два жирафа за стеной из валунов, перед воротами.   \n",
       "29996  Группа машин едет по улице, окруженной высоким...   \n",
       "29997  Одинокий жираф, стоящий под деревьями возле ав...   \n",
       "29998  Знак, который мог бы гласить: \"Парковка здесь,...   \n",
       "29999  Дорожный знак был изуродован вандалами, чтобы ...   \n",
       "\n",
       "                                                  tensor  \n",
       "0      [[[tensor(255, dtype=torch.uint8), tensor(255,...  \n",
       "1      [[[tensor(159, dtype=torch.uint8), tensor(159,...  \n",
       "2      [[[tensor(237, dtype=torch.uint8), tensor(242,...  \n",
       "3      [[[tensor(98, dtype=torch.uint8), tensor(82, d...  \n",
       "4      [[[tensor(132, dtype=torch.uint8), tensor(179,...  \n",
       "...                                                  ...  \n",
       "29995  [[[tensor(4, dtype=torch.uint8), tensor(4, dty...  \n",
       "29996  [[[tensor(147, dtype=torch.uint8), tensor(150,...  \n",
       "29997  [[[tensor(109, dtype=torch.uint8), tensor(108,...  \n",
       "29998  [[[tensor(193, dtype=torch.uint8), tensor(192,...  \n",
       "29999  [[[tensor(16, dtype=torch.uint8), tensor(15, d...  \n",
       "\n",
       "[30000 rows x 4 columns]"
      ]
     },
     "execution_count": 7,
     "metadata": {},
     "output_type": "execute_result"
    }
   ],
   "source": [
    "tqdm.pandas()\n",
    "data = pd.read_csv('F:/Вера/Диплом/Датасеты/coco_all_data.csv', index_col=0)\n",
    "data['tensor'] = data['path'].progress_apply(lambda x: path_tensor(x))"
   ]
  },
  {
   "cell_type": "code",
   "execution_count": 8,
   "metadata": {},
   "outputs": [],
   "source": [
    "with open('F:/Вера/Диплом/Датасеты/coco_data.pickle', 'wb') as f:\n",
    "    pickle.dump(data, f)"
   ]
  },
  {
   "cell_type": "code",
   "execution_count": 9,
   "metadata": {},
   "outputs": [
    {
     "name": "stderr",
     "output_type": "stream",
     "text": [
      "100%|████████████████████████████████████████████████████████████████████████████| 30000/30000 [14:52<00:00, 33.61it/s]\n"
     ]
    },
    {
     "data": {
      "text/html": [
       "<div>\n",
       "<style scoped>\n",
       "    .dataframe tbody tr th:only-of-type {\n",
       "        vertical-align: middle;\n",
       "    }\n",
       "\n",
       "    .dataframe tbody tr th {\n",
       "        vertical-align: top;\n",
       "    }\n",
       "\n",
       "    .dataframe thead th {\n",
       "        text-align: right;\n",
       "    }\n",
       "</style>\n",
       "<table border=\"1\" class=\"dataframe\">\n",
       "  <thead>\n",
       "    <tr style=\"text-align: right;\">\n",
       "      <th></th>\n",
       "      <th>path</th>\n",
       "      <th>text</th>\n",
       "      <th>translations</th>\n",
       "      <th>tensor</th>\n",
       "    </tr>\n",
       "  </thead>\n",
       "  <tbody>\n",
       "    <tr>\n",
       "      <th>0</th>\n",
       "      <td>F:/Вера/Диплом/Датасеты/flickr30k-images/10000...</td>\n",
       "      <td>Two young guys with shaggy hair look at their ...</td>\n",
       "      <td>Два молодых парня с лохматыми волосами смотрят...</td>\n",
       "      <td>[[[tensor(3, dtype=torch.uint8), tensor(4, dty...</td>\n",
       "    </tr>\n",
       "    <tr>\n",
       "      <th>1</th>\n",
       "      <td>F:/Вера/Диплом/Датасеты/flickr30k-images/10002...</td>\n",
       "      <td>Several men in hard hats are operating a giant...</td>\n",
       "      <td>Несколько мужчин в касках управляют гигантской...</td>\n",
       "      <td>[[[tensor(154, dtype=torch.uint8), tensor(157,...</td>\n",
       "    </tr>\n",
       "    <tr>\n",
       "      <th>2</th>\n",
       "      <td>F:/Вера/Диплом/Датасеты/flickr30k-images/10002...</td>\n",
       "      <td>A child in a pink dress is climbing up a set o...</td>\n",
       "      <td>Ребенок в розовом платье поднимается по лестни...</td>\n",
       "      <td>[[[tensor(76, dtype=torch.uint8), tensor(106, ...</td>\n",
       "    </tr>\n",
       "    <tr>\n",
       "      <th>3</th>\n",
       "      <td>F:/Вера/Диплом/Датасеты/flickr30k-images/10003...</td>\n",
       "      <td>Someone in a blue shirt and hat is standing on...</td>\n",
       "      <td>Кто-то в синей рубашке и шляпе стоит на лестни...</td>\n",
       "      <td>[[[tensor(110, dtype=torch.uint8), tensor(110,...</td>\n",
       "    </tr>\n",
       "    <tr>\n",
       "      <th>4</th>\n",
       "      <td>F:/Вера/Диплом/Датасеты/flickr30k-images/10003...</td>\n",
       "      <td>Two men , one in a gray shirt , one in a black...</td>\n",
       "      <td>Двое мужчин , один в серой рубашке , другой в ...</td>\n",
       "      <td>[[[tensor(115, dtype=torch.uint8), tensor(113,...</td>\n",
       "    </tr>\n",
       "    <tr>\n",
       "      <th>...</th>\n",
       "      <td>...</td>\n",
       "      <td>...</td>\n",
       "      <td>...</td>\n",
       "      <td>...</td>\n",
       "    </tr>\n",
       "    <tr>\n",
       "      <th>29995</th>\n",
       "      <td>F:/Вера/Диплом/Датасеты/flickr30k-images/72491...</td>\n",
       "      <td>A group of men wearing black suits , yellow sw...</td>\n",
       "      <td>Группа мужчин в черных костюмах, желтых плават...</td>\n",
       "      <td>[[[tensor(46, dtype=torch.uint8), tensor(170, ...</td>\n",
       "    </tr>\n",
       "    <tr>\n",
       "      <th>29996</th>\n",
       "      <td>F:/Вера/Диплом/Датасеты/flickr30k-images/72491...</td>\n",
       "      <td>Many sports people dressed in black swim wear ...</td>\n",
       "      <td>Многие спортивные люди, одетые в черные плавки...</td>\n",
       "      <td>[[[tensor(7, dtype=torch.uint8), tensor(12, dt...</td>\n",
       "    </tr>\n",
       "    <tr>\n",
       "      <th>29997</th>\n",
       "      <td>F:/Вера/Диплом/Датасеты/flickr30k-images/72497...</td>\n",
       "      <td>A group of people surrounding a man in a black...</td>\n",
       "      <td>Группа людей, окруживших мужчину в черно-красн...</td>\n",
       "      <td>[[[tensor(137, dtype=torch.uint8), tensor(144,...</td>\n",
       "    </tr>\n",
       "    <tr>\n",
       "      <th>29998</th>\n",
       "      <td>F:/Вера/Диплом/Датасеты/flickr30k-images/72521...</td>\n",
       "      <td>A woman in a brown coat and black shirt smiles...</td>\n",
       "      <td>Женщина в коричневом пальто и черной рубашке у...</td>\n",
       "      <td>[[[tensor(16, dtype=torch.uint8), tensor(17, d...</td>\n",
       "    </tr>\n",
       "    <tr>\n",
       "      <th>29999</th>\n",
       "      <td>F:/Вера/Диплом/Датасеты/flickr30k-images/72527...</td>\n",
       "      <td>An adorable little girl with pigtails and glas...</td>\n",
       "      <td>Очаровательная маленькая девочка с косичками и...</td>\n",
       "      <td>[[[tensor(28, dtype=torch.uint8), tensor(39, d...</td>\n",
       "    </tr>\n",
       "  </tbody>\n",
       "</table>\n",
       "<p>30000 rows × 4 columns</p>\n",
       "</div>"
      ],
      "text/plain": [
       "                                                    path  \\\n",
       "0      F:/Вера/Диплом/Датасеты/flickr30k-images/10000...   \n",
       "1      F:/Вера/Диплом/Датасеты/flickr30k-images/10002...   \n",
       "2      F:/Вера/Диплом/Датасеты/flickr30k-images/10002...   \n",
       "3      F:/Вера/Диплом/Датасеты/flickr30k-images/10003...   \n",
       "4      F:/Вера/Диплом/Датасеты/flickr30k-images/10003...   \n",
       "...                                                  ...   \n",
       "29995  F:/Вера/Диплом/Датасеты/flickr30k-images/72491...   \n",
       "29996  F:/Вера/Диплом/Датасеты/flickr30k-images/72491...   \n",
       "29997  F:/Вера/Диплом/Датасеты/flickr30k-images/72497...   \n",
       "29998  F:/Вера/Диплом/Датасеты/flickr30k-images/72521...   \n",
       "29999  F:/Вера/Диплом/Датасеты/flickr30k-images/72527...   \n",
       "\n",
       "                                                    text  \\\n",
       "0      Two young guys with shaggy hair look at their ...   \n",
       "1      Several men in hard hats are operating a giant...   \n",
       "2      A child in a pink dress is climbing up a set o...   \n",
       "3      Someone in a blue shirt and hat is standing on...   \n",
       "4      Two men , one in a gray shirt , one in a black...   \n",
       "...                                                  ...   \n",
       "29995  A group of men wearing black suits , yellow sw...   \n",
       "29996  Many sports people dressed in black swim wear ...   \n",
       "29997  A group of people surrounding a man in a black...   \n",
       "29998  A woman in a brown coat and black shirt smiles...   \n",
       "29999  An adorable little girl with pigtails and glas...   \n",
       "\n",
       "                                            translations  \\\n",
       "0      Два молодых парня с лохматыми волосами смотрят...   \n",
       "1      Несколько мужчин в касках управляют гигантской...   \n",
       "2      Ребенок в розовом платье поднимается по лестни...   \n",
       "3      Кто-то в синей рубашке и шляпе стоит на лестни...   \n",
       "4      Двое мужчин , один в серой рубашке , другой в ...   \n",
       "...                                                  ...   \n",
       "29995  Группа мужчин в черных костюмах, желтых плават...   \n",
       "29996  Многие спортивные люди, одетые в черные плавки...   \n",
       "29997  Группа людей, окруживших мужчину в черно-красн...   \n",
       "29998  Женщина в коричневом пальто и черной рубашке у...   \n",
       "29999  Очаровательная маленькая девочка с косичками и...   \n",
       "\n",
       "                                                  tensor  \n",
       "0      [[[tensor(3, dtype=torch.uint8), tensor(4, dty...  \n",
       "1      [[[tensor(154, dtype=torch.uint8), tensor(157,...  \n",
       "2      [[[tensor(76, dtype=torch.uint8), tensor(106, ...  \n",
       "3      [[[tensor(110, dtype=torch.uint8), tensor(110,...  \n",
       "4      [[[tensor(115, dtype=torch.uint8), tensor(113,...  \n",
       "...                                                  ...  \n",
       "29995  [[[tensor(46, dtype=torch.uint8), tensor(170, ...  \n",
       "29996  [[[tensor(7, dtype=torch.uint8), tensor(12, dt...  \n",
       "29997  [[[tensor(137, dtype=torch.uint8), tensor(144,...  \n",
       "29998  [[[tensor(16, dtype=torch.uint8), tensor(17, d...  \n",
       "29999  [[[tensor(28, dtype=torch.uint8), tensor(39, d...  \n",
       "\n",
       "[30000 rows x 4 columns]"
      ]
     },
     "execution_count": 9,
     "metadata": {},
     "output_type": "execute_result"
    }
   ],
   "source": [
    "tqdm.pandas()\n",
    "data = pd.read_csv('F:/Вера/Диплом/Датасеты/flicker_all_data.csv', index_col=0)\n",
    "data['tensor'] = data['path'].progress_apply(lambda x: path_tensor(x))"
   ]
  },
  {
   "cell_type": "code",
   "execution_count": 10,
   "metadata": {},
   "outputs": [],
   "source": [
    "with open('F:/Вера/Диплом/Датасеты/flicker_data.pickle', 'wb') as f:\n",
    "    pickle.dump(data, f)"
   ]
  },
  {
   "cell_type": "markdown",
   "metadata": {},
   "source": [
    "## Создание тестового набора данных"
   ]
  },
  {
   "cell_type": "code",
   "execution_count": 6,
   "metadata": {},
   "outputs": [],
   "source": [
    "with open('F:/Вера/Диплом/Датасеты/GCC_data.pickle', 'rb') as f:\n",
    "    data = pickle.load(f)\n",
    "    \n",
    "train_data = data.iloc[:24000]\n",
    "test_data = data.iloc[24000:]\n",
    "\n",
    "with open('F:/Вера/Диплом/Датасеты/GCC_train.pickle', 'wb') as f:\n",
    "    pickle.dump(train_data, f)\n",
    "    \n",
    "with open('F:/Вера/Диплом/Датасеты/all_test.pickle', 'wb') as f:\n",
    "    pickle.dump(test_data, f)"
   ]
  },
  {
   "cell_type": "code",
   "execution_count": 11,
   "metadata": {},
   "outputs": [],
   "source": [
    "with open('F:/Вера/Диплом/Датасеты/coco_data.pickle', 'rb') as f:\n",
    "    data = pickle.load(f)\n",
    "    \n",
    "train_data = data.iloc[:24000]\n",
    "test_data = data.iloc[24000:]\n",
    "\n",
    "with open('F:/Вера/Диплом/Датасеты/all_test.pickle', 'rb') as f:\n",
    "    test_dataset = pickle.load(f)\n",
    "    \n",
    "test_concat = pd.concat([test_data, test_dataset]).reset_index(drop=True)\n",
    "\n",
    "with open('F:/Вера/Диплом/Датасеты/coco_train.pickle', 'wb') as f:\n",
    "    pickle.dump(train_data, f)\n",
    "    \n",
    "with open('F:/Вера/Диплом/Датасеты/all_test.pickle', 'wb') as f:\n",
    "    pickle.dump(test_concat, f)"
   ]
  },
  {
   "cell_type": "code",
   "execution_count": 2,
   "metadata": {},
   "outputs": [],
   "source": [
    "with open('F:/Вера/Диплом/Датасеты/flicker_data.pickle', 'rb') as f:\n",
    "    data = pickle.load(f)\n",
    "    \n",
    "train_data = data.iloc[:24000]\n",
    "test_data = data.iloc[24000:]\n",
    "\n",
    "with open('F:/Вера/Диплом/Датасеты/all_test.pickle', 'rb') as f:\n",
    "    test_dataset = pickle.load(f)\n",
    "    \n",
    "test_concat = pd.concat([test_data, test_dataset]).reset_index(drop=True)\n",
    "\n",
    "with open('F:/Вера/Диплом/Датасеты/flicker_train.pickle', 'wb') as f:\n",
    "    pickle.dump(train_data, f)\n",
    "    \n",
    "with open('F:/Вера/Диплом/Датасеты/all_test.pickle', 'wb') as f:\n",
    "    pickle.dump(test_concat, f)"
   ]
  },
  {
   "cell_type": "code",
   "execution_count": null,
   "metadata": {},
   "outputs": [],
   "source": []
  }
 ],
 "metadata": {
  "kernelspec": {
   "display_name": "Python 3",
   "language": "python",
   "name": "python3"
  },
  "language_info": {
   "codemirror_mode": {
    "name": "ipython",
    "version": 3
   },
   "file_extension": ".py",
   "mimetype": "text/x-python",
   "name": "python",
   "nbconvert_exporter": "python",
   "pygments_lexer": "ipython3",
   "version": "3.8.3"
  }
 },
 "nbformat": 4,
 "nbformat_minor": 4
}
